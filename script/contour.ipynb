{
 "cells": [
  {
   "cell_type": "code",
   "execution_count": 76,
   "metadata": {
    "collapsed": true
   },
   "outputs": [],
   "source": [
    "%matplotlib inline\n",
    "#from PIL import Image\n",
    "import cv2\n",
    "import numpy as np\n",
    "from matplotlib import pyplot as plt\n",
    "from scipy.cluster.vq import vq, kmeans, whiten"
   ]
  },
  {
   "cell_type": "code",
   "execution_count": 57,
   "metadata": {
    "collapsed": true
   },
   "outputs": [],
   "source": [
    "def auto_canny(image, sigma=0.33):\n",
    "        # compute the median of the single channel pixel intensities\n",
    "        v = np.median(image)\n",
    "\n",
    "        # apply automatic Canny edge detection using the computed median\n",
    "        lower = int(max(0, (1.0 - sigma) * v))\n",
    "        upper = int(min(255, (1.0 + sigma) * v))\n",
    "        edged = cv2.Canny(image, lower, upper)\n",
    "\n",
    "        # return the edged image\n",
    "        return edged"
   ]
  },
  {
   "cell_type": "code",
   "execution_count": 58,
   "metadata": {
    "collapsed": false
   },
   "outputs": [
    {
     "name": "stdout",
     "output_type": "stream",
     "text": [
      "455 813\n",
      "(455, 813)\n"
     ]
    }
   ],
   "source": [
    "img = cv2.imread('Ferrari2.png',0)\n",
    "width,height=img.shape\n",
    "print width,height\n",
    "edges=auto_canny(img)\n",
    "print edges.shape"
   ]
  },
  {
   "cell_type": "code",
   "execution_count": 59,
   "metadata": {
    "collapsed": false
   },
   "outputs": [
    {
     "data": {
      "image/png": "[encoded data removed]",
      "text/plain": [
       "<matplotlib.figure.Figure at 0x11d1ef790>"
      ]
     },
     "metadata": {},
     "output_type": "display_data"
    }
   ],
   "source": [
    "#plt.subplot(121),plt.imshow(img,cmap = 'gray')\n",
    "#plt.title('Original Image'), plt.xticks([]), plt.yticks([])\n",
    "#plt.subplot(122),plt.imshow(edges,cmap = 'gray')\n",
    "plt.title('Edge Image'), plt.xticks([]), plt.yticks([])\n",
    "plt.imshow(edges,cmap = 'gray')\n",
    "plt.show()"
   ]
  },
  {
   "cell_type": "code",
   "execution_count": 60,
   "metadata": {
    "collapsed": false
   },
   "outputs": [
    {
     "data": {
      "text/plain": [
       "(6320, 2)"
      ]
     },
     "execution_count": 60,
     "metadata": {},
     "output_type": "execute_result"
    }
   ],
   "source": [
    "ans = []\n",
    "for y in range(0, edges.shape[0]):\n",
    "    for x in range(0, edges.shape[1]):\n",
    "        if edges[y, x] != 0:\n",
    "            ans = ans + [[x, y]]\n",
    "ans = np.array(ans)\n",
    "ans.shape"
   ]
  },
  {
   "cell_type": "code",
   "execution_count": 61,
   "metadata": {
    "collapsed": false
   },
   "outputs": [
    {
     "data": {
      "text/plain": [
       "<matplotlib.collections.PathCollection at 0x11b0149d0>"
      ]
     },
     "execution_count": 61,
     "metadata": {},
     "output_type": "execute_result"
    },
    {
     "data": {
      "image/png": "[encoded data removed]",
      "text/plain": [
       "<matplotlib.figure.Figure at 0x11d19ef10>"
      ]
     },
     "metadata": {},
     "output_type": "display_data"
    }
   ],
   "source": [
    "plt.scatter(ans[:,0],ans[:,1],marker='.')"
   ]
  },
  {
   "cell_type": "code",
   "execution_count": 62,
   "metadata": {
    "collapsed": false
   },
   "outputs": [
    {
     "name": "stdout",
     "output_type": "stream",
     "text": [
      "51\n",
      "760\n"
     ]
    }
   ],
   "source": [
    "print min(ans[:,0])\n",
    "print max(ans[:,0])"
   ]
  },
  {
   "cell_type": "code",
   "execution_count": 63,
   "metadata": {
    "collapsed": false
   },
   "outputs": [
    {
     "name": "stdout",
     "output_type": "stream",
     "text": [
      "27\n",
      "432\n"
     ]
    }
   ],
   "source": [
    "print min(ans[:,1])\n",
    "print max(ans[:,1])"
   ]
  },
  {
   "cell_type": "code",
   "execution_count": 64,
   "metadata": {
    "collapsed": false
   },
   "outputs": [
    {
     "name": "stdout",
     "output_type": "stream",
     "text": [
      "(455, 813)\n",
      "309596.8\n",
      "255.0\n"
     ]
    }
   ],
   "source": [
    "img = cv2.imread('Ferrari2.png',0)\n",
    "img = np.float32(img)\n",
    "corners = cv2.cornerHarris(img,2,3,0.04)\n",
    "print corners.shape\n",
    "crit=0.01*corners.max()\n",
    "print crit\n",
    "print img[10,10]\n",
    "img[corners > crit] = 10"
   ]
  },
  {
   "cell_type": "code",
   "execution_count": 65,
   "metadata": {
    "collapsed": false
   },
   "outputs": [
    {
     "name": "stdout",
     "output_type": "stream",
     "text": [
      "(200, 2)\n"
     ]
    }
   ],
   "source": [
    "target0 = []\n",
    "for y in range(0, corners.shape[1]):\n",
    "    for x in range(0, corners.shape[0]):   \n",
    "        if corners[x, y] >crit:\n",
    "            target0 = target0 + [[y, x]]\n",
    "target0 = np.array(target0)\n",
    "print target0.shape\n"
   ]
  },
  {
   "cell_type": "code",
   "execution_count": 66,
   "metadata": {
    "collapsed": false
   },
   "outputs": [
    {
     "data": {
      "text/plain": [
       "<matplotlib.collections.PathCollection at 0x11b612710>"
      ]
     },
     "execution_count": 66,
     "metadata": {},
     "output_type": "execute_result"
    },
    {
     "data": {
      "image/png": "[encoded data removed]",
      "text/plain": [
       "<matplotlib.figure.Figure at 0x11d2c4690>"
      ]
     },
     "metadata": {},
     "output_type": "display_data"
    }
   ],
   "source": [
    "plt.scatter(target0[:,0],target0[:,1],marker='.')"
   ]
  },
  {
   "cell_type": "code",
   "execution_count": 67,
   "metadata": {
    "collapsed": false
   },
   "outputs": [
    {
     "data": {
      "text/plain": [
       "(<matplotlib.text.Text at 0x11b66d910>,\n",
       " ([], <a list of 0 Text xticklabel objects>),\n",
       " ([], <a list of 0 Text yticklabel objects>))"
      ]
     },
     "execution_count": 67,
     "metadata": {},
     "output_type": "execute_result"
    },
    {
     "data": {
      "image/png": "[encoded data removed]",
      "text/plain": [
       "<matplotlib.figure.Figure at 0x11b5c8290>"
      ]
     },
     "metadata": {},
     "output_type": "display_data"
    }
   ],
   "source": [
    "plt.subplot(2,1,1), plt.imshow(img ,cmap = 'gray')\n",
    "plt.title('Harris Corner Detection'), plt.xticks([]), plt.yticks([])"
   ]
  },
  {
   "cell_type": "code",
   "execution_count": 68,
   "metadata": {
    "collapsed": false
   },
   "outputs": [
    {
     "name": "stdout",
     "output_type": "stream",
     "text": [
      "(455, 813)\n",
      "3.09597e+07\n",
      "309596.8\n",
      "0.0\n"
     ]
    }
   ],
   "source": [
    "img2 = cv2.imread('Ferrari2.png')\n",
    "corners2 = cv2.dilate(corners, None, iterations=1)\n",
    "print corners2.shape\n",
    "print corners2.max()\n",
    "crit=0.01*corners2.max()\n",
    "print crit\n",
    "print corners2[10,10]\n",
    "img2[corners2 > crit] = [255,0,0]"
   ]
  },
  {
   "cell_type": "code",
   "execution_count": 69,
   "metadata": {
    "collapsed": false
   },
   "outputs": [
    {
     "name": "stdout",
     "output_type": "stream",
     "text": [
      "(780, 2)\n"
     ]
    }
   ],
   "source": [
    "target = []\n",
    "for y in range(0, corners2.shape[1]):\n",
    "    for x in range(0, corners2.shape[0]):   \n",
    "        if corners2[x, y] >crit:\n",
    "            target = target + [[y, x]]\n",
    "target = np.array(target)\n",
    "print target.shape\n",
    "#print target[0:100,:]\n"
   ]
  },
  {
   "cell_type": "code",
   "execution_count": 70,
   "metadata": {
    "collapsed": false
   },
   "outputs": [
    {
     "name": "stdout",
     "output_type": "stream",
     "text": [
      "80 [50, 51, 52, 53, 54, 153, 154, 155, 156, 157, 256, 257, 258, 259, 260, 301, 302, 303, 304, 305, 342, 343, 344, 345, 346, 347, 388, 389, 390, 391, 392, 397, 398, 399, 400, 401, 402, 436, 437, 438, 439, 440, 441, 452, 453, 454, 455, 456, 496, 497, 498, 499, 500, 501, 519, 520, 521, 522, 523, 524, 537, 538, 539, 540, 541, 583, 584, 585, 586, 587, 647, 648, 649, 650, 651, 759, 760, 761, 762, 763]\n",
      "\n",
      "54 [26, 27, 28, 29, 30, 81, 82, 83, 84, 85, 145, 146, 147, 148, 149, 150, 165, 166, 167, 168, 169, 170, 209, 210, 211, 212, 213, 230, 231, 232, 233, 234, 273, 274, 275, 276, 277, 335, 336, 337, 338, 339, 340, 400, 401, 402, 403, 404, 405, 429, 430, 431, 432, 433]\n"
     ]
    }
   ],
   "source": [
    "def unique_list(l):\n",
    "  x = []\n",
    "  for a in l:\n",
    "    if a not in x:\n",
    "      x.append(a)\n",
    "  return x\n",
    "targetX=unique_list(target[:,0])\n",
    "print len(targetX),sorted(targetX)\n",
    "targetY=unique_list(target[:,1])\n",
    "print\n",
    "print len(targetY),sorted(targetY)"
   ]
  },
  {
   "cell_type": "code",
   "execution_count": 71,
   "metadata": {
    "collapsed": false
   },
   "outputs": [
    {
     "data": {
      "text/plain": [
       "(<matplotlib.text.Text at 0x11d444990>,\n",
       " ([], <a list of 0 Text xticklabel objects>),\n",
       " ([], <a list of 0 Text yticklabel objects>))"
      ]
     },
     "execution_count": 71,
     "metadata": {},
     "output_type": "execute_result"
    },
    {
     "data": {
      "image/png": "[encoded data removed]",
      "text/plain": [
       "<matplotlib.figure.Figure at 0x11b66d3d0>"
      ]
     },
     "metadata": {},
     "output_type": "display_data"
    }
   ],
   "source": [
    "plt.subplot(2,1,2),plt.imshow(img2,cmap = 'gray')\n",
    "plt.title('Canny Edge Detection'), plt.xticks([]), plt.yticks([])"
   ]
  },
  {
   "cell_type": "code",
   "execution_count": 72,
   "metadata": {
    "collapsed": false
   },
   "outputs": [
    {
     "data": {
      "text/plain": [
       "<matplotlib.collections.PathCollection at 0x11d501350>"
      ]
     },
     "execution_count": 72,
     "metadata": {},
     "output_type": "execute_result"
    },
    {
     "data": {
      "image/png": "[encoded data removed]",
      "text/plain": [
       "<matplotlib.figure.Figure at 0x11d439c90>"
      ]
     },
     "metadata": {},
     "output_type": "display_data"
    }
   ],
   "source": [
    "plt.scatter(target[:,0],target[:,1],marker='.',s=1)"
   ]
  },
  {
   "cell_type": "code",
   "execution_count": 73,
   "metadata": {
    "collapsed": false
   },
   "outputs": [
    {
     "data": {
      "text/plain": [
       "<matplotlib.collections.PathCollection at 0x11d1d0650>"
      ]
     },
     "execution_count": 73,
     "metadata": {},
     "output_type": "execute_result"
    },
    {
     "data": {
      "image/png": "[encoded data removed]",
      "text/plain": [
       "<matplotlib.figure.Figure at 0x11d5193d0>"
      ]
     },
     "metadata": {},
     "output_type": "display_data"
    }
   ],
   "source": [
    "plt.scatter(target0[:,0],target0[:,1],marker='.')"
   ]
  },
  {
   "cell_type": "code",
   "execution_count": 43,
   "metadata": {
    "collapsed": false
   },
   "outputs": [
    {
     "name": "stdout",
     "output_type": "stream",
     "text": [
      "(210, 2)\n",
      "(788, 2)\n"
     ]
    }
   ],
   "source": [
    "print target0.shape\n",
    "print target.shape"
   ]
  },
  {
   "cell_type": "code",
   "execution_count": 94,
   "metadata": {
    "collapsed": false
   },
   "outputs": [],
   "source": [
    "centroid, tmp = kmeans(target0+0.0, 30)"
   ]
  },
  {
   "cell_type": "code",
   "execution_count": 95,
   "metadata": {
    "collapsed": false
   },
   "outputs": [
    {
     "data": {
      "text/plain": [
       "<matplotlib.collections.PathCollection at 0x1202e0b90>"
      ]
     },
     "execution_count": 95,
     "metadata": {},
     "output_type": "execute_result"
    },
    {
     "data": {
      "image/png": "[encoded data removed]",
      "text/plain": [
       "<matplotlib.figure.Figure at 0x1201e9390>"
      ]
     },
     "metadata": {},
     "output_type": "display_data"
    }
   ],
   "source": [
    "plt.scatter(centroid[:,0],centroid[:,1],marker='.')"
   ]
  },
  {
   "cell_type": "code",
   "execution_count": null,
   "metadata": {
    "collapsed": true
   },
   "outputs": [],
   "source": []
  }
 ],
 "metadata": {
  "kernelspec": {
   "display_name": "Python 2",
   "language": "python",
   "name": "python2"
  },
  "language_info": {
   "codemirror_mode": {
    "name": "ipython",
    "version": 2
   },
   "file_extension": ".py",
   "mimetype": "text/x-python",
   "name": "python",
   "nbconvert_exporter": "python",
   "pygments_lexer": "ipython2",
   "version": "2.7.11"
  }
 },
 "nbformat": 4,
 "nbformat_minor": 0
}
